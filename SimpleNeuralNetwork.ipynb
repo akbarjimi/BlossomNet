{
  "nbformat": 4,
  "nbformat_minor": 0,
  "metadata": {
    "colab": {
      "provenance": [],
      "collapsed_sections": [
        "lF8gLedNdQv2",
        "PBavN6UwmFU7",
        "ycREDLFRmswI"
      ],
      "mount_file_id": "1tWngIP5CvyU7H90KXCeYbnI3H7fM6e3c",
      "authorship_tag": "ABX9TyOg2hsocj+d3FMT0xmf8szx",
      "include_colab_link": true
    },
    "kernelspec": {
      "name": "python3",
      "display_name": "Python 3"
    },
    "language_info": {
      "name": "python"
    }
  },
  "cells": [
    {
      "cell_type": "markdown",
      "metadata": {
        "id": "view-in-github",
        "colab_type": "text"
      },
      "source": [
        "<a href=\"https://colab.research.google.com/github/akbarjimi/BlossomNet/blob/main/SimpleNeuralNetwork.ipynb\" target=\"_parent\"><img src=\"https://colab.research.google.com/assets/colab-badge.svg\" alt=\"Open In Colab\"/></a>"
      ]
    },
    {
      "cell_type": "markdown",
      "source": [
        "# 1. Load Dataset 🔄"
      ],
      "metadata": {
        "id": "lF8gLedNdQv2"
      }
    },
    {
      "cell_type": "code",
      "source": [
        "import os\n",
        "import numpy as np\n",
        "import random\n",
        "import csv\n",
        "from typing import List, Tuple\n",
        "import math\n",
        "import pickle"
      ],
      "metadata": {
        "id": "y5hCJB4_FeVh"
      },
      "execution_count": null,
      "outputs": []
    },
    {
      "cell_type": "code",
      "execution_count": null,
      "metadata": {
        "id": "d-y8bz9OCL-A"
      },
      "outputs": [],
      "source": [
        "def load_dataset(file_path: str) -> List[List[float]]:\n",
        "    \"\"\"\n",
        "    Loads the dataset from a CSV file.\n",
        "\n",
        "    Parameters:\n",
        "    file_path (str): Path to the dataset file.\n",
        "\n",
        "    Returns:\n",
        "    data (list): Loaded dataset in list format (could be a numpy array, etc.)\n",
        "    \"\"\"\n",
        "    data = []\n",
        "    with open(file_path , 'r') as file:\n",
        "        reader = csv.reader(file)\n",
        "        next(reader)\n",
        "        for row in reader:\n",
        "            data.append([float(feature) for feature in row[:-1]])\n",
        "    return data"
      ]
    },
    {
      "cell_type": "code",
      "source": [
        "def validate_dataset(dataset: List) -> bool:\n",
        "    \"\"\"\n",
        "    Validates the structure and integrity of the dataset.\n",
        "\n",
        "    Parameters:\n",
        "    dataset (list): The loaded dataset.\n",
        "\n",
        "    Returns:\n",
        "    bool: True if dataset is valid, False otherwise.\n",
        "    \"\"\"\n",
        "    if len(dataset) == 0:\n",
        "        return False\n",
        "\n",
        "    num_features = len(dataset[0])\n",
        "    for row in dataset:\n",
        "        if len(row) != num_features:\n",
        "            return False\n",
        "\n",
        "    return True"
      ],
      "metadata": {
        "id": "br0ElRjWdxiw"
      },
      "execution_count": null,
      "outputs": []
    },
    {
      "cell_type": "code",
      "source": [
        "def test_data_loading():\n",
        "    \"\"\"\n",
        "    Tests if the dataset loading function works as expected.\n",
        "    \"\"\"\n",
        "    try:\n",
        "        file_path = '/content/drive/MyDrive/Colab Notebooks/First Neural Network/Iris.csv'\n",
        "        dataset = load_dataset(file_path)\n",
        "        assert validate_dataset(dataset), \"Dataset validation failed.\"\n",
        "        print(\"Data loaded and validated successfully.\")\n",
        "    except AssertionError as error:\n",
        "        print(f\"Test failed: {error}\")\n",
        "    except FileNotFoundError:\n",
        "        print(\"File not found. Make sure the dataset file exists at the specified path.\")\n",
        "    except Exception as error:\n",
        "        print(f\"An error occurred: {error}\")"
      ],
      "metadata": {
        "id": "mKGpyOkmd8ke"
      },
      "execution_count": null,
      "outputs": []
    },
    {
      "cell_type": "markdown",
      "source": [
        "# 2. Normalize the Data 🔄"
      ],
      "metadata": {
        "id": "PBavN6UwmFU7"
      }
    },
    {
      "cell_type": "code",
      "source": [
        "def transpose(data: List[List]) -> List[List]:\n",
        "    \"\"\"Transposes a list of lists.\n",
        "\n",
        "    Args:\n",
        "    data: A list of lists.\n",
        "\n",
        "    Returns:\n",
        "    A transposed list of lists.\n",
        "    \"\"\"\n",
        "\n",
        "    return list(zip(*data))"
      ],
      "metadata": {
        "id": "ILbm5BhKp2fJ"
      },
      "execution_count": null,
      "outputs": []
    },
    {
      "cell_type": "code",
      "source": [
        "def min_max_normalizer(data: List[List[float]]) -> List[List[float]]:\n",
        "    \"\"\"\n",
        "    Applies Min-Max scaling to the dataset, scaling features between 0 and 1.\n",
        "\n",
        "    Parameters:\n",
        "    data (list of lists): The dataset to be normalized.\n",
        "\n",
        "    Returns:\n",
        "    scaled_data (list of lists): Min-max normalized dataset.\n",
        "    \"\"\"\n",
        "\n",
        "    transposed_data = transpose(data)\n",
        "\n",
        "    min_vals = [min(col) for col in transposed_data]\n",
        "    max_vals = [max(col) for col in transposed_data]\n",
        "\n",
        "    scaled_data = []\n",
        "\n",
        "    for row in data:\n",
        "        try:\n",
        "            scaled_row = [(val - min_val) / (max_val - min_val) if (max_val - min_val) != 0 else 0.0 for val, min_val,max_val in zip(row, min_vals, max_vals)]\n",
        "            scaled_data.append(scaled_row)\n",
        "        except ZeroDivisionError:\n",
        "            row_index = data.index(row)\n",
        "            print(f\"ZeroDivisionError encountered in row {row_index}. Values: {row}, {min_vals}, {max_vals}\")\n",
        "            raise ZeroDivisionError\n",
        "\n",
        "    return scaled_data"
      ],
      "metadata": {
        "id": "GHEPq3Qnm84C"
      },
      "execution_count": null,
      "outputs": []
    },
    {
      "cell_type": "code",
      "source": [
        "def split_data(dataset: List[List[float]], training_size: float = 0.7, validation_size: float = 0.15) -> Tuple[List[List[float]], List[List[float]], List[List[float]]]:\n",
        "    \"\"\"\n",
        "    Splits the dataset into training, validation, and test sets.\n",
        "\n",
        "    Parameters:\n",
        "    dataset (list of lists): The dataset to be split.\n",
        "    training_size (float): Proportion of data to be used for training.\n",
        "    validation_size (float): Proportion of data to be used for validation.\n",
        "\n",
        "    Returns:\n",
        "    Tuple containing the training, validation, and test sets.\n",
        "    \"\"\"\n",
        "    # Shuffle the dataset\n",
        "    random.shuffle(dataset)\n",
        "\n",
        "    # Calculate split indices\n",
        "    total_size = len(dataset)\n",
        "    train_end = int(training_size * total_size)\n",
        "    val_end = int((training_size + validation_size) * total_size)\n",
        "\n",
        "    # Split the dataset\n",
        "    training_data = dataset[:train_end]\n",
        "    validation_data = dataset[train_end:val_end]\n",
        "    test_data = dataset[val_end:]\n",
        "\n",
        "    return training_data, validation_data, test_data"
      ],
      "metadata": {
        "id": "JUk8uAB0k1F1"
      },
      "execution_count": null,
      "outputs": []
    },
    {
      "cell_type": "code",
      "source": [
        "def test_split_data():\n",
        "    \"\"\"\n",
        "    Tests if the data splitting function works as expected.\n",
        "    \"\"\"\n",
        "    try:\n",
        "        file_path = '/content/drive/MyDrive/Colab Notebooks/First Neural Network/Iris.csv'\n",
        "        dataset = load_dataset(file_path)\n",
        "        dataset = min_max_normalizer(dataset)\n",
        "        training_data, validation_data, test_data = split_data(dataset)\n",
        "\n",
        "        # Check if splits are non-empty and sizes are correct\n",
        "        assert len(training_data) > 0, \"Training data is empty.\"\n",
        "        assert len(validation_data) > 0, \"Validation data is empty.\"\n",
        "        assert len(test_data) > 0, \"Test data is empty.\"\n",
        "        total_size = len(training_data) + len(validation_data) + len(test_data)\n",
        "        assert total_size == len(dataset), \"Data splitting error: sizes do not match.\"\n",
        "\n",
        "        print(\"Data splitting test passed successfully.\")\n",
        "    except AssertionError as error:\n",
        "        print(f\"Test failed: {error}\")\n",
        "    except Exception as error:\n",
        "        print(f\"An error occurred: {error}\")"
      ],
      "metadata": {
        "id": "EH-SJwTEk4PT"
      },
      "execution_count": null,
      "outputs": []
    },
    {
      "cell_type": "markdown",
      "source": [
        "# 3. Define the Architecture 🏗"
      ],
      "metadata": {
        "id": "VUV-OoGf9CoI"
      }
    },
    {
      "cell_type": "code",
      "source": [
        "class Neuron:\n",
        "    \"\"\"A simple neuron class with type hints.\"\"\"\n",
        "\n",
        "    def __init__(self, weights: List[float], bias: float = None):\n",
        "        \"\"\"Initializes a neuron with given weights and bias.\n",
        "\n",
        "        Args:\n",
        "            weights: A list of weights for the neuron's inputs.\n",
        "            bias: The bias term for the neuron.\n",
        "        \"\"\"\n",
        "        self.weights = weights\n",
        "        self.bias = bias if bias is not None else random.uniform(-0.1, 0.1)\n",
        "        self.inputs = []  # To store inputs for backpropagation\n",
        "        self.output = 0   # To store output for backpropagation\n",
        "\n",
        "    def forward(self, inputs: List[float]) -> float:\n",
        "        \"\"\"Calculates the output of the neuron.\n",
        "\n",
        "        Args:\n",
        "            inputs: A list of inputs to the neuron.\n",
        "\n",
        "        Returns:\n",
        "            The output of the neuron.\n",
        "        \"\"\"\n",
        "        self.inputs = inputs\n",
        "        weighted_sum = sum([input_ * weight for input_, weight in zip(inputs, self.weights)])\n",
        "        self.output = weighted_sum + self.bias\n",
        "        return self.output\n",
        "\n",
        "    def activation(self, output: float) -> float:\n",
        "        \"\"\"Applies an activation function to the neuron's output.\n",
        "\n",
        "        Args:\n",
        "            output: The output of the neuron.\n",
        "\n",
        "        Returns:\n",
        "            The activated output of the neuron.\n",
        "        \"\"\"\n",
        "        return output\n",
        "\n",
        "    def compute_gradient(self, delta: float) -> List[float]:\n",
        "        \"\"\"Calculates the gradient for the weights using the delta from the next layer.\n",
        "\n",
        "        Args:\n",
        "            delta: The error signal from the next layer.\n",
        "\n",
        "        Returns:\n",
        "            A list of gradients for the weights.\n",
        "        \"\"\"\n",
        "        gradients = [delta * input_ for input_ in self.inputs]\n",
        "        return gradients\n",
        "\n",
        "    def update_weights(self, learning_rate: float, gradients: List[float]):\n",
        "        \"\"\"Updates the weights and bias of the neuron using the computed gradients.\n",
        "\n",
        "        Args:\n",
        "            learning_rate: The learning rate for weight updates.\n",
        "            gradients: The computed gradients for each weight.\n",
        "        \"\"\"\n",
        "        self.weights = [w - learning_rate * g for w, g in zip(self.weights, gradients)]\n",
        "        self.bias -= learning_rate * gradients[-1]  # Updating bias with the last gradient\n",
        "\n",
        "    def propagate_error_back(self) -> List[float]:\n",
        "        \"\"\"Propagates the error signal back to the previous layer.\n",
        "\n",
        "        Returns:\n",
        "            A list of error terms to propagate to the previous layer.\n",
        "        \"\"\"\n",
        "        # Example: Assuming we are using the derivative of the sigmoid function for backpropagation\n",
        "        error_signal = self.output * (1 - self.output)\n",
        "        propagated_errors = [error_signal * weight for weight in self.weights]\n",
        "        return propagated_errors"
      ],
      "metadata": {
        "id": "uJCkaPTT90u7"
      },
      "execution_count": null,
      "outputs": []
    },
    {
      "cell_type": "code",
      "source": [
        "class ActivationFunctions:\n",
        "    \"\"\"A utility class for activation functions.\"\"\"\n",
        "\n",
        "    @staticmethod\n",
        "    def sigmoid(x: float) -> float:\n",
        "        \"\"\"Applies the sigmoid activation function.\n",
        "\n",
        "        Args:\n",
        "            x: The input value.\n",
        "\n",
        "        Returns:\n",
        "            The activated value.\n",
        "        \"\"\"\n",
        "        return 1 / (1 + math.exp(-x))\n",
        "\n",
        "    @staticmethod\n",
        "    def relu(x:float) -> float:\n",
        "        \"\"\"Applies the rectified linear unit (ReLU) activation function.\n",
        "\n",
        "        Args:\n",
        "            x: The input value.\n",
        "\n",
        "        Returns:\n",
        "            The activated value.\n",
        "        \"\"\"\n",
        "        return max(0,x)\n",
        "\n",
        "    @staticmethod\n",
        "    def softmax(x: List[float]) -> List[float]:\n",
        "        \"\"\"Applies the softmax activation function.\n",
        "\n",
        "        Args:\n",
        "            x: A list of input values.\n",
        "\n",
        "        Returns:\n",
        "            A list of normalized probabilities.\n",
        "        \"\"\"\n",
        "\n",
        "        # returns the base e raised to the power of the given number\n",
        "        exp_values = [math.exp(value) for value in x]\n",
        "        sum_exp_values = sum(exp_values)\n",
        "        return [exp_value / sum_exp_values for exp_value in exp_values]"
      ],
      "metadata": {
        "id": "VLJoUYpDBP2c"
      },
      "execution_count": null,
      "outputs": []
    },
    {
      "cell_type": "code",
      "source": [
        "class Layer:\n",
        "    \"\"\"A layer in a neural network.\"\"\"\n",
        "\n",
        "    def __init__(self, neurons: List[Neuron], activation: ActivationFunctions, is_output_layer: bool = False):\n",
        "        \"\"\"Initializes a layer with the specified number of neurons and inputs.\n",
        "\n",
        "        Args:\n",
        "            neurons: The neurons in the layer.\n",
        "            activation: The activation function to use for the neurons.\n",
        "        \"\"\"\n",
        "        self.neurons = neurons\n",
        "        self.activation = activation\n",
        "        self.is_output_layer = is_output_layer\n",
        "\n",
        "    def forward(self, inputs: List[float]) -> List[float]:\n",
        "        \"\"\"Propagates inputs through the layer.\n",
        "\n",
        "        Args:\n",
        "            inputs: A list of inputs to the layer.\n",
        "\n",
        "        Returns:\n",
        "            A list of outputs from the neurons in the layer.\n",
        "        \"\"\"\n",
        "        if self.is_output_layer:\n",
        "            # Apply softmax if this is the output layer\n",
        "            logits = [neuron.forward(inputs) for neuron in self.neurons]\n",
        "            return self.softmax(logits)\n",
        "        else:\n",
        "            neuron_outputs = [neuron.forward(inputs) for neuron in self.neurons]\n",
        "            # Apply the activation function after calculating the neuron outputs\n",
        "            activated_outputs = [self.activation(output) for output in neuron_outputs]\n",
        "            return activated_outputs\n",
        "\n",
        "    def backward(self, delta: List[float], learning_rate: float) -> List[float]:\n",
        "        \"\"\"Performs the backward pass and updates weights and biases.\n",
        "\n",
        "        Args:\n",
        "            delta: The error term (gradient) from the next layer.\n",
        "            learning_rate: The learning rate for weight updates.\n",
        "\n",
        "        Returns:\n",
        "            A list of propagated error terms to pass to the previous layer.\n",
        "        \"\"\"\n",
        "        new_delta = []\n",
        "        for i, neuron in enumerate(self.neurons):\n",
        "            neuron_gradient = neuron.compute_gradient(delta[i])\n",
        "\n",
        "            neuron.update_weights(learning_rate)\n",
        "\n",
        "            new_delta.append(neuron.propagate_error_back())\n",
        "\n",
        "        return new_delta\n",
        "\n",
        "\"\"\"\n",
        "random.seed(1)\n",
        "# Create a layer with 3 neurons and 2 inputs\n",
        "neurons = [Neuron([random.uniform(-1, 1) for _ in range(2)], random.uniform(-1, 1)) for _ in range(3)]\n",
        "layer = Layer(neurons, ActivationFunctions().relu)\n",
        "\n",
        "# Input data\n",
        "inputs = [0.5, 0.8]\n",
        "\n",
        "# Forward propagation\n",
        "outputs = layer.forward(inputs)\n",
        "print(outputs)  # Output: [0.57926035, 0.58828428, 0.59730822]\n",
        "\"\"\""
      ],
      "metadata": {
        "id": "JBJr0gtOE391"
      },
      "execution_count": null,
      "outputs": []
    },
    {
      "cell_type": "code",
      "source": [
        "class Network:\n",
        "    \"\"\"A neural network with multiple layers.\"\"\"\n",
        "\n",
        "\n",
        "    def __init__(self, layers: List[Layer], epochs: int, learning_rate: float):\n",
        "        self.layers = layers\n",
        "        self.learning_rate = learning_rate\n",
        "        self.epochs = epochs\n",
        "\n",
        "    def forward(self, inputs: List[float]) -> List[float]:\n",
        "        \"\"\"Propagates inputs through the entire network.\n",
        "\n",
        "        Args:\n",
        "            inputs: A list of inputs to the network.\n",
        "\n",
        "        Returns:\n",
        "            A list of outputs from the final layer.\n",
        "        \"\"\"\n",
        "        outputs = inputs\n",
        "        for layer in self.layers:\n",
        "            outputs = layer.forward(outputs)\n",
        "        return outputs\n",
        "\n",
        "    def backward(self, targets: List[float], outputs: List[float]):\n",
        "        \"\"\"Performs backpropagation to update the network's weights and biases.\n",
        "\n",
        "        Args:\n",
        "            targets: A list of target outputs.\n",
        "            outputs: A list of outputs from the final forward pass.\n",
        "        \"\"\"\n",
        "        # Compute the gradient of the loss with respect to the output (initial delta)\n",
        "        delta = self.loss_derivative(outputs, targets)\n",
        "\n",
        "        # Iterate backward over the layers to propagate the error and update weights\n",
        "        for layer in reversed(self.layers):\n",
        "            delta = layer.backward(delta, self.learning_rate)\n",
        "\n",
        "    def compute_loss(self, predicted: List[float], actual: List[float]) -> float:\n",
        "        \"\"\"Calculates the loss for the predictions.\"\"\"\n",
        "        return LossFunction.cross_entropy(predicted, actual)\n",
        "\n",
        "    def loss_derivative(self, outputs: List[float], targets: List[float]) -> List[float]:\n",
        "        \"\"\"Computes the derivative of the loss function.\"\"\"\n",
        "        # This is a placeholder; implement according to your loss function.\n",
        "        # For cross-entropy with softmax, you would have:\n",
        "        return [pred - target for pred, target in zip(outputs, targets)]\n",
        "\n",
        "def train(self, training_data: List[tuple]):\n",
        "    \"\"\"Trains the network on the given data without mini-batches.\n",
        "\n",
        "    Args:\n",
        "        training_data: A list of tuples containing input and target data.\n",
        "    \"\"\"\n",
        "    num_samples = len(training_data)\n",
        "\n",
        "    for epoch in range(self.epochs):\n",
        "        total_loss = 0\n",
        "        random.shuffle(training_data)  # Shuffle data at each epoch for better generalization\n",
        "\n",
        "        for inputs, targets in training_data:\n",
        "            # Forward pass\n",
        "            outputs = self.forward(inputs)\n",
        "\n",
        "            # Calculate loss\n",
        "            loss = self.compute_loss(outputs, targets)\n",
        "            total_loss += loss\n",
        "\n",
        "            # Backward pass\n",
        "            self.backward(targets, outputs)\n",
        "\n",
        "        avg_loss = total_loss / num_samples\n",
        "\n",
        "        # Print loss for this epoch\n",
        "        print(f\"Epoch {epoch + 1}/{self.epochs} complete. Average loss: {avg_loss:.4f}\")\n",
        "\n",
        "\n",
        "    def evaluate(self, test_data: List[tuple]) -> float:\n",
        "        \"\"\"Evaluates the network on the test data.\"\"\"\n",
        "        inputs_batch, targets_batch = zip(*test_data)\n",
        "        predictions = [self.forward(inputs) for inputs in inputs_batch]\n",
        "        accuracy = self.calculate_accuracy(predictions, targets_batch)\n",
        "        return accuracy\n",
        "\n",
        "    def predict(self, new_data: List[float]) -> List[float]:\n",
        "        \"\"\"Predicts the output for new input data.\n",
        "\n",
        "        Args:\n",
        "            new_data: A list of new input data.\n",
        "\n",
        "        Returns:\n",
        "            A list of predicted outputs.\n",
        "        \"\"\"\n",
        "        return self.forward(new_data)\n",
        "\n",
        "    def calculate_accuracy(self, predictions: List[List[float]], targets: List[List[float]]) -> float:\n",
        "        \"\"\"Calculates the accuracy of the model.\"\"\"\n",
        "        correct_predictions = 0\n",
        "        for pred, target in zip(predictions, targets):\n",
        "            predicted_class = np.argmax(pred)\n",
        "            true_class = np.argmax(target)\n",
        "            if predicted_class == true_class:\n",
        "                correct_predictions += 1\n",
        "        return correct_predictions / len(targets)\n",
        "\n",
        "    def save_weights(self, filename: str):\n",
        "        \"\"\"Saves the weights of the network to a file.\"\"\"\n",
        "        weights = [[neuron.weights for neuron in layer.neurons] for layer in self.layers]\n",
        "        biases = [[neuron.bias for neuron in layer.neurons] for layer in self.layers]\n",
        "\n",
        "        with open(filename, 'wb') as f:\n",
        "            pickle.dump((weights, biases), f)\n",
        "\n",
        "    def load_weights(self, filename: str):\n",
        "        \"\"\"Loads weights into the network from a file.\"\"\"\n",
        "        with open(filename, 'rb') as f:\n",
        "            weights, biases = pickle.load(f)\n",
        "\n",
        "        for layer, layer_weights, layer_biases in zip(self.layers, weights, biases):\n",
        "            for neuron, neuron_weights, neuron_bias in zip(layer.neurons, layer_weights, layer_biases):\n",
        "                neuron.weights = neuron_weights\n",
        "                neuron.bias = neuron_bias"
      ],
      "metadata": {
        "id": "g3Jq30B-J1Lk"
      },
      "execution_count": null,
      "outputs": []
    },
    {
      "cell_type": "code",
      "source": [
        "class LossFunction:\n",
        "    \"\"\"A utility class for loss functions.\"\"\"\n",
        "\n",
        "    @staticmethod\n",
        "    def cross_entropy(predicted_outputs: List[float], actual_outputs: List[float]) -> float:\n",
        "        \"\"\"Calculates the categorical cross-entropy loss.\n",
        "\n",
        "        Args:\n",
        "            predicted_outputs: A list of predicted probabilities for each class.\n",
        "            actual_outputs: A one-hot encoded list of actual output values.\n",
        "\n",
        "        Returns:\n",
        "            The categorical cross-entropy loss.\n",
        "        \"\"\"\n",
        "        # Clip the predicted values to prevent log(0)\n",
        "        predicted_outputs = np.clip(predicted_outputs, 1e-12, 1 - 1e-12)\n",
        "\n",
        "        # Calculate the cross-entropy loss\n",
        "        loss = -sum([actual_output * np.log(predicted_output)\n",
        "                     for predicted_output, actual_output in zip(predicted_outputs, actual_outputs)])\n",
        "        return loss / len(predicted_outputs)\n",
        "\n",
        "    @staticmethod\n",
        "    def mean_squared_error(predicted_outputs: List[float], actual_outputs: List[float]) -> float:\n",
        "        \"\"\"Calculates the mean squared error (MSE).\n",
        "\n",
        "        Args:\n",
        "            predicted_outputs: A list of predicted output values.\n",
        "            actual_outputs: A list of actual output values.\n",
        "\n",
        "        Returns:\n",
        "            The mean squared error.\n",
        "        \"\"\"\n",
        "        squared_errors = [(predicted_output - actual_output) ** 2\n",
        "                          for predicted_output, actual_output in zip(predicted_outputs, actual_outputs)]\n",
        "        return sum(squared_errors) / len(squared_errors)\n"
      ],
      "metadata": {
        "id": "anKsHgS8N-Iv"
      },
      "execution_count": null,
      "outputs": []
    },
    {
      "cell_type": "code",
      "source": [
        "class WeghitsInitializer:\n",
        "    \"\"\"A utility class for weight initialization.\"\"\"\n",
        "\n",
        "    @staticmethod\n",
        "    def weights(num_inputs: int) -> List[float]:\n",
        "        \"\"\"Initializes weights with random values uniformly distributed between -0.1 and 0.1.\n",
        "\n",
        "        Args:\n",
        "            num_inputs: The number of inputs to the neuron.\n",
        "\n",
        "        Returns:\n",
        "            A list of initialized weights.\n",
        "        \"\"\"\n",
        "        return [random.uniform(-0.1, 0.1) for _ in range(num_inputs)]\n"
      ],
      "metadata": {
        "id": "da7SbIFhuipG"
      },
      "execution_count": null,
      "outputs": []
    },
    {
      "cell_type": "markdown",
      "source": [
        "# Workflow 🔮: Load Dataset"
      ],
      "metadata": {
        "id": "ycREDLFRmswI"
      }
    },
    {
      "cell_type": "code",
      "source": [
        "test_data_loading()\n",
        "file_path = '/content/drive/MyDrive/Colab Notebooks/First Neural Network/Iris.csv'\n",
        "dataset = load_dataset(file_path)\n",
        "test_split_data()\n",
        "training_data, validation_data, test_data = split_data(dataset)\n",
        "print(training_data)"
      ],
      "metadata": {
        "id": "Rt4OIVV1msNB"
      },
      "execution_count": null,
      "outputs": []
    },
    {
      "cell_type": "markdown",
      "source": [
        "# Workflow 🔮: Architecture"
      ],
      "metadata": {
        "id": "Iz1cl6tesGG7"
      }
    },
    {
      "cell_type": "markdown",
      "source": [
        "## Create input layer"
      ],
      "metadata": {
        "id": "r5fEpiz3swJj"
      }
    },
    {
      "cell_type": "code",
      "source": [
        "weights = WeghitsInitializer.weights(4)\n",
        "bias = random.uniform(-0.1, 0.1)\n",
        "input_neurons = [Neuron(weights=weights, bias=bias) for _ in range(4)]\n",
        "input_layer = Layer(neurons=input_neurons, activation= ActivationFunctions.relu, is_output_layer=False)\n",
        "\n",
        "# Print weights of input neurons\n",
        "for neuron in input_layer.neurons:\n",
        "    print(\"Input Neuron Weights:\", neuron.weights)"
      ],
      "metadata": {
        "id": "xrEKj4tMsYN8"
      },
      "execution_count": null,
      "outputs": []
    },
    {
      "cell_type": "markdown",
      "source": [
        "## Create hidden layer"
      ],
      "metadata": {
        "id": "lnY2OyY8wQI8"
      }
    },
    {
      "cell_type": "code",
      "source": [
        "weights = WeghitsInitializer.weights(4)\n",
        "bias = random.uniform(-0.1, 0.1)\n",
        "hidden_neurons = [Neuron(weights=weights, bias=bias) for _ in range(5)]\n",
        "hidden_layer = Layer(neurons=hidden_neurons, activation= ActivationFunctions.relu, is_output_layer=False)\n",
        "\n",
        "# Print weights of input neurons\n",
        "for neuron in hidden_layer.neurons:\n",
        "    print(\"Input Neuron Weights:\", neuron.weights)"
      ],
      "metadata": {
        "id": "1bK5AUOBwUWP"
      },
      "execution_count": null,
      "outputs": []
    },
    {
      "cell_type": "markdown",
      "source": [
        "## Create output layer"
      ],
      "metadata": {
        "id": "UmGT2bpKw1in"
      }
    },
    {
      "cell_type": "code",
      "source": [
        "weights = WeghitsInitializer.weights(5)\n",
        "bias = random.uniform(-0.1, 0.1)\n",
        "output_neurons = [Neuron(weights=weights, bias=bias) for _ in range(3)]\n",
        "output_layer = Layer(neurons=output_neurons, activation= ActivationFunctions.relu, is_output_layer=True)\n",
        "\n",
        "# Print weights of input neurons\n",
        "for neuron in output_layer.neurons:\n",
        "    print(\"Input Neuron Weights:\", neuron.weights)"
      ],
      "metadata": {
        "id": "RKPIAROvw2kq"
      },
      "execution_count": null,
      "outputs": []
    },
    {
      "cell_type": "markdown",
      "source": [
        "## Train"
      ],
      "metadata": {
        "id": "n-c1fLTl18Ul"
      }
    },
    {
      "cell_type": "code",
      "source": [
        "epochs = 100\n",
        "learning_rate = 0.01\n",
        "layers = [input_layer,hidden_layer,output_layer]\n",
        "network = Network(layers=layers,epochs=epochs,learning_rate=learning_rate)"
      ],
      "metadata": {
        "id": "9Wl2HNYh19rX"
      },
      "execution_count": null,
      "outputs": []
    }
  ]
}